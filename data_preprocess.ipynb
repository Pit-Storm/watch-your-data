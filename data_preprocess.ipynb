{
 "cells": [
  {
   "cell_type": "code",
   "execution_count": 1,
   "metadata": {},
   "outputs": [],
   "source": [
    "import pandas as pd"
   ]
  },
  {
   "cell_type": "code",
   "execution_count": 2,
   "metadata": {},
   "outputs": [],
   "source": [
    "df_news = pd.read_pickle(\"data/data_raw.pickle\")"
   ]
  },
  {
   "cell_type": "markdown",
   "metadata": {},
   "source": [
    "### Cleaning up"
   ]
  },
  {
   "cell_type": "code",
   "execution_count": 3,
   "metadata": {
    "scrolled": true
   },
   "outputs": [
    {
     "name": "stdout",
     "output_type": "stream",
     "text": [
      "Rows dropped:  19076\n",
      "Rows left: 185059\n"
     ]
    }
   ],
   "source": [
    "before = df_news.shape[0]\n",
    "\n",
    "to_drop = [\"\",\"[]\"]\n",
    "for col in df_news.columns:\n",
    "    if col != \"ID\":\n",
    "        for item in to_drop:\n",
    "            df_news = df_news[df_news[col] != item]\n",
    "        df_news = df_news[df_news[col].notnull()]\n",
    "\n",
    "after = df_news.shape[0]\n",
    "print(\"Rows dropped: {0:6d}\".format(before - after))\n",
    "print(\"Rows left: {0:6d}\".format(after))"
   ]
  },
  {
   "cell_type": "markdown",
   "metadata": {},
   "source": [
    "### Fixing interpunction misstakes"
   ]
  },
  {
   "cell_type": "code",
   "execution_count": 4,
   "metadata": {},
   "outputs": [],
   "source": [
    "import re\n",
    "from functools import reduce"
   ]
  },
  {
   "cell_type": "code",
   "execution_count": 5,
   "metadata": {},
   "outputs": [],
   "source": [
    "def fix_interpunction(item):\n",
    "    \"\"\"\n",
    "    Inserting space when missing after sentence ending.\n",
    "    *args: item string\n",
    "    return: fixed item string\n",
    "    \"\"\"\n",
    "    match = re.search(r\"[\\w\\d][\\.\\!\\?][\\w\\d]\",item)\n",
    "    if match:\n",
    "        item = item[:match.start()+2] + str(\" \") + item[match.end()-1:]\n",
    "        return fix_interpunction(item)\n",
    "    else:\n",
    "        return item\n",
    "\n",
    "df_news[\"Content\"] = df_news[\"Content\"].apply(fix_interpunction)"
   ]
  },
  {
   "cell_type": "markdown",
   "metadata": {},
   "source": [
    "### Keeping only first four sentences of \"Content\""
   ]
  },
  {
   "cell_type": "code",
   "execution_count": 6,
   "metadata": {},
   "outputs": [],
   "source": [
    "def keep_10(row):\n",
    "    \"\"\"Only keep first 5 sentences of Content\n",
    "    *args: pandas row object\n",
    "    return: string\n",
    "    \"\"\"\n",
    "    return reduce(lambda i,j: i + j, re.split(r'([\\.\\!\\?]\\s)', row ,4)[:8])\n",
    "\n",
    "df_news[\"Content\"] = df_news[\"Content\"].apply(keep_10)"
   ]
  },
  {
   "cell_type": "markdown",
   "metadata": {},
   "source": [
    "### Replace lot of spaces with only one"
   ]
  },
  {
   "cell_type": "code",
   "execution_count": 7,
   "metadata": {},
   "outputs": [],
   "source": [
    "def replace_spaces(string):\n",
    "    \"\"\"\n",
    "    checking if there are mor then 2 concatenated spaces and replace it with one.\n",
    "    *args: string\n",
    "    return: string\n",
    "    \"\"\"\n",
    "    return re.sub(r\"\\s{2,}\",\" \",string)\n",
    "\n",
    "df_news[\"Content\"] = df_news[\"Content\"].apply(replace_spaces)"
   ]
  },
  {
   "cell_type": "markdown",
   "metadata": {},
   "source": [
    "### Deleting not expected chars from content"
   ]
  },
  {
   "cell_type": "code",
   "execution_count": 8,
   "metadata": {},
   "outputs": [],
   "source": [
    "def bad_format_1(string):\n",
    "    \"\"\"\n",
    "    replace not expacted chars with space\n",
    "    *args: content string\n",
    "    return: string\n",
    "    \"\"\"\n",
    "    return re.sub(r\"[\\\\\\,\\'\\s]{3,}(?=[A-Z]|\\\")\",\" \",string)\n",
    "\n",
    "df_news[\"Content\"] = df_news[\"Content\"].apply(bad_format_1)"
   ]
  },
  {
   "cell_type": "code",
   "execution_count": 9,
   "metadata": {},
   "outputs": [],
   "source": [
    "def bad_format_2(string):\n",
    "    \"\"\"\n",
    "    deleting all backslashes\n",
    "    *args: content-string\n",
    "    return: string\n",
    "    \"\"\"\n",
    "    return re.sub(r\"\\\\{1,}\",\"\",string)\n",
    "\n",
    "df_news[\"Content\"] = df_news[\"Content\"].apply(bad_format_2)"
   ]
  },
  {
   "cell_type": "markdown",
   "metadata": {},
   "source": [
    "### Dropping rows the content has bunch of non letter chars"
   ]
  },
  {
   "cell_type": "code",
   "execution_count": 10,
   "metadata": {
    "scrolled": true
   },
   "outputs": [
    {
     "name": "stdout",
     "output_type": "stream",
     "text": [
      "Rows dropped:     74\n",
      "Rows left: 184985\n"
     ]
    }
   ],
   "source": [
    "def non_char_bunch(string):\n",
    "    \"\"\"\n",
    "    checking if string has any bunch of non letter chars in concatenation\n",
    "    \n",
    "    *args: string\n",
    "    return: Bool\n",
    "    \"\"\"\n",
    "    if re.search(r\"(\\\\{1,}\\'{1,})|(\\\\{2,})|(\\{{1,})\",string): return True\n",
    "    else: return False\n",
    "\n",
    "before = df_news.shape[0]\n",
    "\n",
    "df_news = df_news[df_news[\"Content\"].apply(non_char_bunch)==False]\n",
    "\n",
    "after = df_news.shape[0]\n",
    "print(\"Rows dropped: {0:6d}\".format(before - after))\n",
    "print(\"Rows left: {0:6d}\".format(after))"
   ]
  },
  {
   "cell_type": "markdown",
   "metadata": {},
   "source": [
    "### Dropping rows the headline occurs in Content"
   ]
  },
  {
   "cell_type": "code",
   "execution_count": 11,
   "metadata": {},
   "outputs": [
    {
     "name": "stdout",
     "output_type": "stream",
     "text": [
      "Rows dropped:    771\n",
      "Rows left: 184214\n"
     ]
    }
   ],
   "source": [
    "def headline_in_content(row):\n",
    "    is_in = row[\"Content\"].find(row[\"Headline\"])\n",
    "    if is_in == -1:\n",
    "        return False\n",
    "    else:\n",
    "        return True\n",
    "\n",
    "before = df_news.shape[0]\n",
    "\n",
    "df_news = df_news[df_news.apply(headline_in_content, axis=1) == False]\n",
    "\n",
    "after = df_news.shape[0]\n",
    "print(\"Rows dropped: {0:6d}\".format(before - after))\n",
    "print(\"Rows left: {0:6d}\".format(after))"
   ]
  },
  {
   "cell_type": "markdown",
   "metadata": {},
   "source": [
    "### Dropping duplicate rows"
   ]
  },
  {
   "cell_type": "code",
   "execution_count": 12,
   "metadata": {},
   "outputs": [
    {
     "name": "stdout",
     "output_type": "stream",
     "text": [
      "Rows dropped:   7629\n",
      "Rows left: 176585\n"
     ]
    }
   ],
   "source": [
    "before = df_news.shape[0]\n",
    "\n",
    "df_news = df_news.drop_duplicates(\"Headline\")\n",
    "\n",
    "after = df_news.shape[0]\n",
    "print(\"Rows dropped: {0:6d}\".format(before - after))\n",
    "print(\"Rows left: {0:6d}\".format(after))"
   ]
  },
  {
   "cell_type": "markdown",
   "metadata": {},
   "source": [
    "### Dropping rows the content is snippet"
   ]
  },
  {
   "cell_type": "code",
   "execution_count": 13,
   "metadata": {},
   "outputs": [
    {
     "name": "stdout",
     "output_type": "stream",
     "text": [
      "Rows dropped:     19\n",
      "Rows left: 176566\n"
     ]
    }
   ],
   "source": [
    "def is_snippet(content):\n",
    "    if content.find(\"... Continue\") != -1: return True\n",
    "    else: return False\n",
    "\n",
    "before = df_news.shape[0]\n",
    "\n",
    "df_news = df_news[df_news[\"Content\"].apply(is_snippet)==False]\n",
    "\n",
    "after = df_news.shape[0]\n",
    "print(\"Rows dropped: {0:6d}\".format(before - after))\n",
    "print(\"Rows left: {0:6d}\".format(after))"
   ]
  },
  {
   "cell_type": "markdown",
   "metadata": {},
   "source": [
    "### Lowercasing and Tokenizing"
   ]
  },
  {
   "cell_type": "code",
   "execution_count": 14,
   "metadata": {},
   "outputs": [],
   "source": [
    "import nltk\n",
    "import time\n",
    "# Only when first using nltk\n",
    "#nltk.download()"
   ]
  },
  {
   "cell_type": "code",
   "execution_count": 15,
   "metadata": {},
   "outputs": [],
   "source": [
    "df_news[\"Headline\"] = df_news[\"Headline\"].str.lower()\n",
    "df_news[\"Content\"] = df_news[\"Content\"].str.lower()"
   ]
  },
  {
   "cell_type": "code",
   "execution_count": 16,
   "metadata": {
    "scrolled": true
   },
   "outputs": [
    {
     "name": "stdout",
     "output_type": "stream",
     "text": [
      "Headline done. Took 0.4 minutes.\n",
      "Content Done. Took 2.8 minutes.\n"
     ]
    }
   ],
   "source": [
    "tokenize_start = time.time()\n",
    "df_news[\"Headline\"] = df_news[\"Headline\"].apply(nltk.word_tokenize)\n",
    "tokenize_end = time.time()\n",
    "print(\"Headline done. Took {0:2.1f} minutes.\".format((tokenize_end - tokenize_start)/60))\n",
    "\n",
    "tokenize_start = time.time()\n",
    "df_news[\"Content\"] = df_news[\"Content\"].apply(nltk.word_tokenize)\n",
    "tokenize_end = time.time()\n",
    "print(\"Content Done. Took {0:2.1f} minutes.\".format((tokenize_end - tokenize_start)/60))"
   ]
  },
  {
   "cell_type": "markdown",
   "metadata": {},
   "source": [
    "### Dropping rows the headline is > 25 tokens"
   ]
  },
  {
   "cell_type": "code",
   "execution_count": 17,
   "metadata": {
    "scrolled": true
   },
   "outputs": [
    {
     "name": "stdout",
     "output_type": "stream",
     "text": [
      "Rows dropped:    588\n",
      "Rows left: 175978\n"
     ]
    }
   ],
   "source": [
    "def headline_gt_25(item):\n",
    "    \"\"\"\n",
    "    rows with more than 25 tokens in headline\n",
    "    \n",
    "    *args: row\n",
    "    return: row\n",
    "    \"\"\"\n",
    "    if len(item) > 25: return True\n",
    "    else: return False\n",
    "\n",
    "before = df_news.shape[0]\n",
    "\n",
    "df_news = df_news[df_news[\"Headline\"].apply(headline_gt_25) == False]\n",
    "\n",
    "after = df_news.shape[0]\n",
    "print(\"Rows dropped: {0:6d}\".format(before - after))\n",
    "print(\"Rows left: {0:6d}\".format(after))"
   ]
  },
  {
   "cell_type": "markdown",
   "metadata": {},
   "source": [
    "### Dropping rows the content is shorter then 25 tokens"
   ]
  },
  {
   "cell_type": "code",
   "execution_count": 18,
   "metadata": {
    "scrolled": true
   },
   "outputs": [
    {
     "name": "stdout",
     "output_type": "stream",
     "text": [
      "Rows dropped:   1952\n",
      "Rows left: 174026\n"
     ]
    }
   ],
   "source": [
    "before = df_news.shape[0]\n",
    "df_news = df_news[df_news[\"Content\"].apply(lambda x: len(x)) > 25]\n",
    "after = df_news.shape[0]\n",
    "\n",
    "print(\"Rows dropped: {0:6d}\".format(before - after))\n",
    "print(\"Rows left: {0:6d}\".format(after))"
   ]
  },
  {
   "cell_type": "markdown",
   "metadata": {},
   "source": [
    "### Dropping rows the > 4 last tokens are non character"
   ]
  },
  {
   "cell_type": "code",
   "execution_count": 19,
   "metadata": {},
   "outputs": [
    {
     "name": "stdout",
     "output_type": "stream",
     "text": [
      "Rows dropped:    998\n",
      "Rows left: 173028\n"
     ]
    }
   ],
   "source": [
    "def bad_format(list):\n",
    "    \"\"\"\n",
    "    giving true if last 4 list-items having non letters\n",
    "    *args: item-string\n",
    "    return: Bool\n",
    "    \"\"\"\n",
    "    chars = []\n",
    "    for idx in range(len(list[-10:])):\n",
    "        idx = idx*(-1)-1\n",
    "        if re.match(r\"\\W\",list[idx]):\n",
    "            chars.append(idx)\n",
    "            if len(chars) > 4:\n",
    "                return True\n",
    "        else:\n",
    "            return False\n",
    "\n",
    "before = df_news.shape[0]\n",
    "df_news = df_news[df_news[\"Content\"].apply(bad_format) == False]\n",
    "after = df_news.shape[0]\n",
    "\n",
    "print(\"Rows dropped: {0:6d}\".format(before - after))\n",
    "print(\"Rows left: {0:6d}\".format(after))"
   ]
  },
  {
   "cell_type": "code",
   "execution_count": 20,
   "metadata": {},
   "outputs": [],
   "source": [
    "df_news.to_pickle(\"data/data_preprocessed.pickle\")\n",
    "\n",
    "#df_news = pd.read_pickle(\"data/data_vocab.pickle\")"
   ]
  },
  {
   "cell_type": "code",
   "execution_count": null,
   "metadata": {},
   "outputs": [],
   "source": []
  }
 ],
 "metadata": {
  "kernelspec": {
   "display_name": "Python 3",
   "language": "python",
   "name": "python3"
  },
  "language_info": {
   "codemirror_mode": {
    "name": "ipython",
    "version": 3
   },
   "file_extension": ".py",
   "mimetype": "text/x-python",
   "name": "python",
   "nbconvert_exporter": "python",
   "pygments_lexer": "ipython3",
   "version": "3.7.1"
  }
 },
 "nbformat": 4,
 "nbformat_minor": 2
}
