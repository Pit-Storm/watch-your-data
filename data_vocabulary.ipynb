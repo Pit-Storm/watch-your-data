{
 "cells": [
  {
   "cell_type": "code",
   "execution_count": 1,
   "metadata": {},
   "outputs": [],
   "source": [
    "import pandas as pd"
   ]
  },
  {
   "cell_type": "code",
   "execution_count": null,
   "metadata": {},
   "outputs": [],
   "source": [
    "#df_news.to_pickle(\"data/data_preprocessed.pickle\")\n",
    "\n",
    "df_news = pd.read_pickle(\"data/data_preprocessed.pickle\")"
   ]
  },
  {
   "cell_type": "markdown",
   "metadata": {},
   "source": [
    "### Replace rare words with ```<unk>``` \n",
    "\n",
    "Keeping only 40k most frequent words"
   ]
  },
  {
   "cell_type": "code",
   "execution_count": null,
   "metadata": {},
   "outputs": [],
   "source": [
    "def create_word_freq(tokenlist, wordfreq):\n",
    "    \"\"\"\n",
    "    Create the word frequency list\n",
    "    \n",
    "    return: dict containing rokens with freq\n",
    "    *args: list of tokens and deict of wordfreq\n",
    "    \"\"\"\n",
    "    \n",
    "    for token in tokenlist:\n",
    "        if token in wordfreq:\n",
    "            wordfreq[token] += 1\n",
    "        else:\n",
    "            wordfreq[token] = 1\n",
    "    return wordfreq\n",
    "\n",
    "tokenfreq = {}\n",
    "\n",
    "for row in df_news.itertuples(index=False,name=\"tuple\"):\n",
    "    tokenfreq = create_word_freq(row[1],tokenfreq)\n",
    "    tokenfreq = create_word_freq(row[2],tokenfreq)\n",
    "\n",
    "tokenfreq = {k: v for k, v in sorted(tokenfreq.items(), key=lambda item: item[1])}\n",
    "\n",
    "print(\"The Corpus has {} different tokens.\".format(len(tokenfreq)))\n",
    "tokenfreq = set(list(tokenfreq.keys())[-40000:])\n",
    "print(\"We kept only the 40k most frequent.\")"
   ]
  },
  {
   "cell_type": "code",
   "execution_count": null,
   "metadata": {},
   "outputs": [],
   "source": [
    "def repl_rare(tokenlist):\n",
    "    \"\"\"\n",
    "    replace rare words with <unk>\n",
    "    \n",
    "    return: tokenlist\n",
    "    *args: tokenlist\n",
    "    \"\"\"\n",
    "    for idx in range(len(tokenlist)):\n",
    "        if tokenlist[idx] not in tokenfreq:\n",
    "            tokenlist[idx] = \"<unk>\"\n",
    "    return tokenlist\n",
    "\n",
    "df_news[\"Headline\"] = df_news[\"Headline\"].apply(repl_rare)\n",
    "df_news[\"Content\"] = df_news[\"Content\"].apply(repl_rare)"
   ]
  },
  {
   "cell_type": "markdown",
   "metadata": {},
   "source": [
    "### Adding ```<eos>``` to the end of content list"
   ]
  },
  {
   "cell_type": "code",
   "execution_count": null,
   "metadata": {},
   "outputs": [],
   "source": [
    "def add_eos(tokenlist):\n",
    "    \"\"\"\n",
    "    adds <eos> token to end of list\n",
    "    \"\"\"\n",
    "    tokenlist.append(\"<eos>\")\n",
    "    return tokenlist\n",
    "\n",
    "df_news[\"Headline\"] = df_news[\"Headline\"].apply(add_eos)\n",
    "df_news[\"Content\"] = df_news[\"Content\"].apply(add_eos)"
   ]
  },
  {
   "cell_type": "code",
   "execution_count": null,
   "metadata": {},
   "outputs": [],
   "source": [
    "df_news.to_pickle(\"data/data_vocab.pickle\")\n",
    "\n",
    "#df_news = pd.read_pickle(\"data/data_preprocessed.pickle\")"
   ]
  }
 ],
 "metadata": {
  "kernelspec": {
   "display_name": "Python 3",
   "language": "python",
   "name": "python3"
  },
  "language_info": {
   "codemirror_mode": {
    "name": "ipython",
    "version": 3
   },
   "file_extension": ".py",
   "mimetype": "text/x-python",
   "name": "python",
   "nbconvert_exporter": "python",
   "pygments_lexer": "ipython3",
   "version": "3.7.1"
  }
 },
 "nbformat": 4,
 "nbformat_minor": 2
}
